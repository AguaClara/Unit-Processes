{
  "nbformat": 4,
  "nbformat_minor": 0,
  "metadata": {
    "colab": {
      "name": "UPA InfoSheet",
      "provenance": [],
      "collapsed_sections": [],
      "include_colab_link": true
    },
    "kernelspec": {
      "name": "python3",
      "display_name": "Python 3"
    }
  },
  "cells": [
    {
      "cell_type": "markdown",
      "metadata": {
        "id": "view-in-github",
        "colab_type": "text"
      },
      "source": [
        "<a href=\"https://colab.research.google.com/github/AguaClara/Unit-Processes/blob/master/UPA_InfoSheet.ipynb\" target=\"_parent\"><img src=\"https://colab.research.google.com/assets/colab-badge.svg\" alt=\"Open In Colab\"/></a>"
      ]
    },
    {
      "cell_type": "markdown",
      "metadata": {
        "id": "RzC9azsrdtN5",
        "colab_type": "text"
      },
      "source": [
        "##**Pump Tubes**\n",
        "[//]: <> (This is also a comment.)\n",
        "\n",
        "*  **Yellow/Blue**\n",
        "  *   **Inner Diameter:** 1.52mm  \n",
        "  *   **Lot:** IW020974/A\n",
        "* Orange/Yellow\n",
        "\n",
        "* **Blue/Blue BPT Tubing 2-STOP**\n",
        "  * **Inner Diameter:** 1.65mm \n",
        "  * **Lot:** IW011068\n",
        "* **Purple/White/Purple BPT Tubing**\n",
        "  * **Inner Diameter:** 2.79mm\n",
        "  * **Lot:** IW011788\n",
        "\n",
        "* **#14 MasterFlex Pump Tubing**\n",
        "* **#16 MasterFlex Pump Tubing**\n",
        "* **#17 MasterFlex Pump Tubing**\n",
        "* **#18 MasterFlex Pump Tubing**\n"
      ]
    }
  ]
}