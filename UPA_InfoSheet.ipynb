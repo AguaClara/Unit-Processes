{
  "nbformat": 4,
  "nbformat_minor": 0,
  "metadata": {
    "colab": {
      "name": "UPA InfoSheet",
      "provenance": [],
      "collapsed_sections": []
    },
    "kernelspec": {
      "name": "python3",
      "display_name": "Python 3"
    }
  },
  "cells": [
    {
      "cell_type": "markdown",
      "metadata": {
        "id": "RzC9azsrdtN5",
        "colab_type": "text"
      },
      "source": [
        "##**Pump Tubes**\n",
        "[//]: <> (Information for possible pump head tubes to used for the apparatus)\n",
        "\n",
        "*  **Yellow/Blue**\n",
        "  *   **Inner Diameter:** 1.52mm  \n",
        "  *   **Lot:** IW020974/A\n",
        "* Orange/Yellow\n",
        "\n",
        "* **Blue/Blue BPT Tubing 2-STOP**\n",
        "  * **Inner Diameter:** 1.65mm \n",
        "  * **Lot:** IW011068\n",
        "* **Purple/White/Purple BPT Tubing**\n",
        "  * **Inner Diameter:** 2.79mm\n",
        "  * **Lot:** IW011788\n",
        "\n",
        "* **#14 MasterFlex Pump Tubing**\n",
        "* **#16 MasterFlex Pump Tubing**\n",
        "* **#17 MasterFlex Pump Tubing**\n",
        "* **#18 MasterFlex Pump Tubing**\n",
        "\n",
        "\n",
        "##**Apparatus Tools**\n",
        "\n",
        "\n",
        "*   Holes on Stopper\n",
        "  *   Use the Precision Drill drills with size 1,4 or 1,5\n",
        "\n",
        "\n",
        "\n"
      ]
    },
    {
      "cell_type": "code",
      "metadata": {
        "id": "9FEvjFsG7h7e",
        "colab_type": "code",
        "colab": {}
      },
      "source": [
        ""
      ],
      "execution_count": 0,
      "outputs": []
    }
  ]
}